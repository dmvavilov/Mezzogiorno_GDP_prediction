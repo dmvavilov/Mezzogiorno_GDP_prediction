{
 "cells": [
  {
   "cell_type": "code",
   "execution_count": 243,
   "metadata": {},
   "outputs": [],
   "source": [
    "# Внимание, сначала первым делом тебе нужно будет прописать функцию install.packages('...')\n",
    "# Вместо трех точек пишешь название всех библиотек, что используются, например, install.packages('readxl')"
   ]
  },
  {
   "cell_type": "code",
   "execution_count": 2,
   "metadata": {
    "collapsed": true
   },
   "outputs": [
    {
     "name": "stderr",
     "output_type": "stream",
     "text": [
      "Warning message:\n",
      "\"package 'readxl' was built under R version 3.6.3\"\n"
     ]
    }
   ],
   "source": [
    "library(readxl) # Библиотека для чтения ексель-файлов"
   ]
  },
  {
   "cell_type": "code",
   "execution_count": 15,
   "metadata": {
    "collapsed": true
   },
   "outputs": [
    {
     "name": "stderr",
     "output_type": "stream",
     "text": [
      "Warning message:\n",
      "\"package 'xts' was built under R version 3.6.3\"\n",
      "Loading required package: zoo\n",
      "\n",
      "Warning message:\n",
      "\"package 'zoo' was built under R version 3.6.3\"\n",
      "\n",
      "Attaching package: 'zoo'\n",
      "\n",
      "\n",
      "The following objects are masked from 'package:base':\n",
      "\n",
      "    as.Date, as.Date.numeric\n",
      "\n",
      "\n"
     ]
    }
   ],
   "source": [
    "library(xts) # Библиотека для работы со временным рядом"
   ]
  },
  {
   "cell_type": "code",
   "execution_count": 16,
   "metadata": {
    "collapsed": true
   },
   "outputs": [
    {
     "name": "stderr",
     "output_type": "stream",
     "text": [
      "Warning message:\n",
      "\"package 'tseries' was built under R version 3.6.3\"\n",
      "Registered S3 method overwritten by 'quantmod':\n",
      "  method            from\n",
      "  as.zoo.data.frame zoo \n",
      "\n"
     ]
    }
   ],
   "source": [
    "library(tseries) # Библиотека для теста Дики-Фуллера"
   ]
  },
  {
   "cell_type": "code",
   "execution_count": 92,
   "metadata": {
    "collapsed": true
   },
   "outputs": [
    {
     "name": "stderr",
     "output_type": "stream",
     "text": [
      "Warning message:\n",
      "\"package 'forecast' was built under R version 3.6.3\"\n"
     ]
    }
   ],
   "source": [
    "library(forecast) # Библиотека для ARIMA"
   ]
  },
  {
   "cell_type": "code",
   "execution_count": 239,
   "metadata": {
    "collapsed": true
   },
   "outputs": [
    {
     "name": "stderr",
     "output_type": "stream",
     "text": [
      "Warning message:\n",
      "\"package 'openxlsx' was built under R version 3.6.3\"\n"
     ]
    }
   ],
   "source": [
    "library(openxlsx) # Библиотека для скачивания файлов в Excel формате к себе на компьютер "
   ]
  },
  {
   "cell_type": "code",
   "execution_count": 38,
   "metadata": {},
   "outputs": [],
   "source": [
    "to_xts <- function(df, ...){ # Функция для перевода фрейма во временной ряд \n",
    "    df <- as.data.frame(df)  \n",
    "    #df$date = as.Date(df$date)\n",
    "    ts = xts(df[,-1], order.by = df[,1])\n",
    "    return(ts) \n",
    "}"
   ]
  },
  {
   "cell_type": "code",
   "execution_count": 45,
   "metadata": {},
   "outputs": [],
   "source": [
    "GDP <- read_excel('Downloads/GDP_1980-2018_mezzogiorno.xlsx') # подгружаю файлик с данными "
   ]
  },
  {
   "cell_type": "code",
   "execution_count": 46,
   "metadata": {},
   "outputs": [
    {
     "data": {
      "text/html": [
       "<table>\n",
       "<caption>A tibble: 6 × 2</caption>\n",
       "<thead>\n",
       "\t<tr><th scope=col>year</th><th scope=col>GDP</th></tr>\n",
       "\t<tr><th scope=col>&lt;chr&gt;</th><th scope=col>&lt;dbl&gt;</th></tr>\n",
       "</thead>\n",
       "<tbody>\n",
       "\t<tr><td>1980</td><td> 47867.86</td></tr>\n",
       "\t<tr><td>1981</td><td> 57576.73</td></tr>\n",
       "\t<tr><td>1982</td><td> 68491.17</td></tr>\n",
       "\t<tr><td>1983</td><td> 81739.43</td></tr>\n",
       "\t<tr><td>1984</td><td> 93972.64</td></tr>\n",
       "\t<tr><td>1985</td><td>104683.33</td></tr>\n",
       "</tbody>\n",
       "</table>\n"
      ],
      "text/latex": [
       "A tibble: 6 × 2\n",
       "\\begin{tabular}{ll}\n",
       " year & GDP\\\\\n",
       " <chr> & <dbl>\\\\\n",
       "\\hline\n",
       "\t 1980 &  47867.86\\\\\n",
       "\t 1981 &  57576.73\\\\\n",
       "\t 1982 &  68491.17\\\\\n",
       "\t 1983 &  81739.43\\\\\n",
       "\t 1984 &  93972.64\\\\\n",
       "\t 1985 & 104683.33\\\\\n",
       "\\end{tabular}\n"
      ],
      "text/markdown": [
       "\n",
       "A tibble: 6 × 2\n",
       "\n",
       "| year &lt;chr&gt; | GDP &lt;dbl&gt; |\n",
       "|---|---|\n",
       "| 1980 |  47867.86 |\n",
       "| 1981 |  57576.73 |\n",
       "| 1982 |  68491.17 |\n",
       "| 1983 |  81739.43 |\n",
       "| 1984 |  93972.64 |\n",
       "| 1985 | 104683.33 |\n",
       "\n"
      ],
      "text/plain": [
       "  year GDP      \n",
       "1 1980  47867.86\n",
       "2 1981  57576.73\n",
       "3 1982  68491.17\n",
       "4 1983  81739.43\n",
       "5 1984  93972.64\n",
       "6 1985 104683.33"
      ]
     },
     "metadata": {},
     "output_type": "display_data"
    }
   ],
   "source": [
    "head(GDP) # посмотрел первые наблюдения "
   ]
  },
  {
   "cell_type": "code",
   "execution_count": 47,
   "metadata": {},
   "outputs": [],
   "source": [
    "GDP$year <- paste0(GDP$year,'-12-31') # R не видит один год как дату, поэтому добавляю 12 месяц и 31 день"
   ]
  },
  {
   "cell_type": "code",
   "execution_count": 48,
   "metadata": {},
   "outputs": [],
   "source": [
    "colnames(GDP) <- c('Date', 'Value') # Переименовал столбцы для личного удобства"
   ]
  },
  {
   "cell_type": "code",
   "execution_count": 49,
   "metadata": {},
   "outputs": [],
   "source": [
    "GDP$Date <- as.Date(GDP$Date) # Делаю столбец с датой - датой"
   ]
  },
  {
   "cell_type": "code",
   "execution_count": 50,
   "metadata": {},
   "outputs": [],
   "source": [
    "GDP <- to_xts(GDP) # Делаю из таблицы временной ряд"
   ]
  },
  {
   "cell_type": "code",
   "execution_count": 52,
   "metadata": {},
   "outputs": [],
   "source": [
    "colnames(GDP) <- 'GDP'"
   ]
  },
  {
   "cell_type": "code",
   "execution_count": 244,
   "metadata": {},
   "outputs": [
    {
     "data": {
      "image/png": "[encoded data removed]",
      "text/plain": [
       "plot without title"
      ]
     },
     "metadata": {
      "image/png": {
       "height": 420,
       "width": 420
      },
      "text/plain": {
       "height": 420,
       "width": 420
      }
     },
     "output_type": "display_data"
    }
   ],
   "source": [
    "plot(GDP, main = 'Mezzogiorno GDP', col = 'blue', lwd = 4)"
   ]
  },
  {
   "cell_type": "code",
   "execution_count": 136,
   "metadata": {},
   "outputs": [
    {
     "data": {
      "text/plain": [
       "\n",
       "\tAugmented Dickey-Fuller Test\n",
       "\n",
       "data:  GDP\n",
       "Dickey-Fuller = -0.44851, Lag order = 3, p-value = 0.979\n",
       "alternative hypothesis: stationary\n"
      ]
     },
     "metadata": {},
     "output_type": "display_data"
    }
   ],
   "source": [
    "adf.test(GDP) # Нестационарный ряд, потому что есть тренд "
   ]
  },
  {
   "cell_type": "code",
   "execution_count": 137,
   "metadata": {},
   "outputs": [
    {
     "data": {
      "text/plain": [
       "\n",
       "\tAugmented Dickey-Fuller Test\n",
       "\n",
       "data:  diff(log(GDP), 1, )[-1, ]\n",
       "Dickey-Fuller = -2.8848, Lag order = 3, p-value = 0.2275\n",
       "alternative hypothesis: stationary\n"
      ]
     },
     "metadata": {},
     "output_type": "display_data"
    }
   ],
   "source": [
    "adf.test(diff(log(GDP), 1,)[-1,]) # Первые разности логарифмов не помогают, попробуем что-то другое"
   ]
  },
  {
   "cell_type": "code",
   "execution_count": 87,
   "metadata": {},
   "outputs": [
    {
     "name": "stderr",
     "output_type": "stream",
     "text": [
      "Warning message in adf.test(diff(diff(log(GDP), 1, ))[-c(1:2), ]):\n",
      "\"p-value smaller than printed p-value\"\n"
     ]
    },
    {
     "data": {
      "text/plain": [
       "\n",
       "\tAugmented Dickey-Fuller Test\n",
       "\n",
       "data:  diff(diff(log(GDP), 1, ))[-c(1:2), ]\n",
       "Dickey-Fuller = -4.4732, Lag order = 3, p-value = 0.01\n",
       "alternative hypothesis: stationary\n"
      ]
     },
     "metadata": {},
     "output_type": "display_data"
    }
   ],
   "source": [
    "adf.test(diff(diff(log(GDP), 1,))[-c(1:2),]) # Разности разностей логарифмов подходят "
   ]
  },
  {
   "cell_type": "code",
   "execution_count": 89,
   "metadata": {},
   "outputs": [
    {
     "data": {
      "image/png": "[encoded data removed]",
      "text/plain": [
       "plot without title"
      ]
     },
     "metadata": {
      "image/png": {
       "height": 420,
       "width": 420
      },
      "text/plain": {
       "height": 420,
       "width": 420
      }
     },
     "output_type": "display_data"
    }
   ],
   "source": [
    "plot(diff(diff(log(GDP), 1,))[-c(1:2),]) # Похоже на правду, далее будем работать только с этим рядом "
   ]
  },
  {
   "cell_type": "code",
   "execution_count": 90,
   "metadata": {},
   "outputs": [],
   "source": [
    "GDP.rtn <- diff(diff(log(GDP), 1,))[-c(1:2),] # Создаю новую переменную"
   ]
  },
  {
   "cell_type": "code",
   "execution_count": 150,
   "metadata": {},
   "outputs": [
    {
     "data": {
      "image/png": "[encoded data removed]",
      "text/plain": [
       "Plot with title \"Series  GDP.rtn\""
      ]
     },
     "metadata": {
      "image/png": {
       "height": 420,
       "width": 420
      },
      "text/plain": {
       "height": 420,
       "width": 420
      }
     },
     "output_type": "display_data"
    },
    {
     "data": {
      "image/png": "[encoded data removed]",
      "text/plain": [
       "Plot with title \"Series  GDP.rtn\""
      ]
     },
     "metadata": {
      "image/png": {
       "height": 420,
       "width": 420
      },
      "text/plain": {
       "height": 420,
       "width": 420
      }
     },
     "output_type": "display_data"
    }
   ],
   "source": [
    "Acf(GDP.rtn) # ACF график\n",
    "Pacf(GDP.rtn) # PACF график\n",
    "# Показывает, что никакой автокорреляции нет, поэтому модели будут не очень"
   ]
  },
  {
   "cell_type": "code",
   "execution_count": 113,
   "metadata": {},
   "outputs": [
    {
     "name": "stdout",
     "output_type": "stream",
     "text": [
      "\n",
      " ARIMA(2,0,2) with non-zero mean : Inf\n",
      " ARIMA(0,0,0) with non-zero mean : -178.193\n",
      " ARIMA(1,0,0) with non-zero mean : -177.3943\n",
      " ARIMA(0,0,1) with non-zero mean : -178.0694\n",
      " ARIMA(0,0,0) with zero mean     : -178.3642\n",
      " ARIMA(1,0,1) with non-zero mean : Inf\n",
      "\n",
      " Best model: ARIMA(0,0,0) with zero mean     \n",
      "\n"
     ]
    },
    {
     "data": {
      "text/plain": [
       "Series: GDP.rtn \n",
       "ARIMA(0,0,0) with zero mean \n",
       "\n",
       "sigma^2 estimated as 0.0004472:  log likelihood=90.18\n",
       "AIC=-178.36   AICc=-178.25   BIC=-176.75"
      ]
     },
     "metadata": {},
     "output_type": "display_data"
    }
   ],
   "source": [
    "auto.arima(GDP.rtn, trace = TRUE, ic = 'aic') # Показывает, что все модели очень плохие, выбирает (0,0,0) с нулевым средним"
   ]
  },
  {
   "cell_type": "code",
   "execution_count": 118,
   "metadata": {},
   "outputs": [
    {
     "name": "stdout",
     "output_type": "stream",
     "text": [
      "\n",
      " ARIMA(2,0,2) with non-zero mean : Inf\n",
      " ARIMA(0,0,0) with non-zero mean : -174.9712\n",
      " ARIMA(1,0,0) with non-zero mean : -172.5615\n",
      " ARIMA(0,0,1) with non-zero mean : -173.2367\n",
      " ARIMA(0,0,0) with zero mean     : -176.7533\n",
      " ARIMA(1,0,1) with non-zero mean : Inf\n",
      "\n",
      " Best model: ARIMA(0,0,0) with zero mean     \n",
      "\n"
     ]
    },
    {
     "data": {
      "text/plain": [
       "Series: GDP.rtn \n",
       "ARIMA(0,0,0) with zero mean \n",
       "\n",
       "sigma^2 estimated as 0.0004472:  log likelihood=90.18\n",
       "AIC=-178.36   AICc=-178.25   BIC=-176.75"
      ]
     },
     "metadata": {},
     "output_type": "display_data"
    }
   ],
   "source": [
    "auto.arima(GDP.rtn, trace = TRUE, ic = 'bic') # По BIC то же самое, из-за того что ряд - почти арифметическая прогрессия"
   ]
  },
  {
   "cell_type": "code",
   "execution_count": 155,
   "metadata": {},
   "outputs": [],
   "source": [
    "m1 <- Arima(y = GDP.rtn, order = c(0,0,0), include.mean = FALSE) # Строим, как есть "
   ]
  },
  {
   "cell_type": "code",
   "execution_count": 156,
   "metadata": {},
   "outputs": [
    {
     "name": "stdout",
     "output_type": "stream",
     "text": [
      "Series: GDP.rtn \n",
      "ARIMA(0,0,0) with zero mean \n",
      "\n",
      "sigma^2 estimated as 0.0004472:  log likelihood=90.18\n",
      "AIC=-178.36   AICc=-178.25   BIC=-176.75\n",
      "\n",
      "Training set error measures:\n",
      "                      ME       RMSE        MAE MPE MAPE      MASE       ACF1\n",
      "Training set -0.00464377 0.02114625 0.01669281 100  100 0.6557996 -0.1807802\n"
     ]
    }
   ],
   "source": [
    "summary(m1) # Характеристики модели"
   ]
  },
  {
   "cell_type": "code",
   "execution_count": 217,
   "metadata": {},
   "outputs": [
    {
     "data": {
      "image/png": "[encoded data removed]",
      "text/plain": [
       "Plot with title \"Forecasts from ARIMA(0,0,0) with zero mean\""
      ]
     },
     "metadata": {
      "image/png": {
       "height": 420,
       "width": 420
      },
      "text/plain": {
       "height": 420,
       "width": 420
      }
     },
     "output_type": "display_data"
    }
   ],
   "source": [
    "plot(forecast(m1)) # вот эта голубо-серая штука - доверительный интервал, значит, прогноз очень \"неуверенный\""
   ]
  },
  {
   "cell_type": "code",
   "execution_count": 220,
   "metadata": {},
   "outputs": [
    {
     "data": {
      "text/plain": [
       "   Point Forecast       Lo 80      Hi 80       Lo 95      Hi 95\n",
       "38              0 -0.02710001 0.02710001 -0.04144589 0.04144589\n",
       "39              0 -0.02710001 0.02710001 -0.04144589 0.04144589\n",
       "40              0 -0.02710001 0.02710001 -0.04144589 0.04144589\n",
       "41              0 -0.02710001 0.02710001 -0.04144589 0.04144589\n",
       "42              0 -0.02710001 0.02710001 -0.04144589 0.04144589\n",
       "43              0 -0.02710001 0.02710001 -0.04144589 0.04144589\n",
       "44              0 -0.02710001 0.02710001 -0.04144589 0.04144589\n",
       "45              0 -0.02710001 0.02710001 -0.04144589 0.04144589\n",
       "46              0 -0.02710001 0.02710001 -0.04144589 0.04144589\n",
       "47              0 -0.02710001 0.02710001 -0.04144589 0.04144589\n",
       "48              0 -0.02710001 0.02710001 -0.04144589 0.04144589\n",
       "49              0 -0.02710001 0.02710001 -0.04144589 0.04144589\n",
       "50              0 -0.02710001 0.02710001 -0.04144589 0.04144589\n",
       "51              0 -0.02710001 0.02710001 -0.04144589 0.04144589\n",
       "52              0 -0.02710001 0.02710001 -0.04144589 0.04144589\n",
       "53              0 -0.02710001 0.02710001 -0.04144589 0.04144589\n",
       "54              0 -0.02710001 0.02710001 -0.04144589 0.04144589\n",
       "55              0 -0.02710001 0.02710001 -0.04144589 0.04144589\n",
       "56              0 -0.02710001 0.02710001 -0.04144589 0.04144589\n",
       "57              0 -0.02710001 0.02710001 -0.04144589 0.04144589\n",
       "58              0 -0.02710001 0.02710001 -0.04144589 0.04144589\n",
       "59              0 -0.02710001 0.02710001 -0.04144589 0.04144589\n",
       "60              0 -0.02710001 0.02710001 -0.04144589 0.04144589\n",
       "61              0 -0.02710001 0.02710001 -0.04144589 0.04144589\n",
       "62              0 -0.02710001 0.02710001 -0.04144589 0.04144589\n",
       "63              0 -0.02710001 0.02710001 -0.04144589 0.04144589\n",
       "64              0 -0.02710001 0.02710001 -0.04144589 0.04144589\n",
       "65              0 -0.02710001 0.02710001 -0.04144589 0.04144589\n",
       "66              0 -0.02710001 0.02710001 -0.04144589 0.04144589\n",
       "67              0 -0.02710001 0.02710001 -0.04144589 0.04144589\n",
       "68              0 -0.02710001 0.02710001 -0.04144589 0.04144589\n",
       "69              0 -0.02710001 0.02710001 -0.04144589 0.04144589\n",
       "70              0 -0.02710001 0.02710001 -0.04144589 0.04144589"
      ]
     },
     "metadata": {},
     "output_type": "display_data"
    }
   ],
   "source": [
    "forecast(m1, h = 33) # Весь прогноз у нас исключительно нолики"
   ]
  },
  {
   "cell_type": "code",
   "execution_count": 221,
   "metadata": {},
   "outputs": [],
   "source": [
    "fcst <- forecast(m1, h = 32) # создаем отдельную переменную куда запишем прогноз"
   ]
  },
  {
   "cell_type": "code",
   "execution_count": 222,
   "metadata": {},
   "outputs": [
    {
     "data": {
      "text/html": [
       "A Time Series:<br><style>\n",
       ".list-inline {list-style: none; margin:0; padding: 0}\n",
       ".list-inline>li {display: inline-block}\n",
       ".list-inline>li:not(:last-child)::after {content: \"\\00b7\"; padding: 0 .5ex}\n",
       "</style>\n",
       "<ol class=list-inline><li>0</li><li>0</li><li>0</li><li>0</li><li>0</li><li>0</li><li>0</li><li>0</li><li>0</li><li>0</li><li>0</li><li>0</li><li>0</li><li>0</li><li>0</li><li>0</li><li>0</li><li>0</li><li>0</li><li>0</li><li>0</li><li>0</li><li>0</li><li>0</li><li>0</li><li>0</li><li>0</li><li>0</li><li>0</li><li>0</li><li>0</li><li>0</li></ol>\n"
      ],
      "text/latex": [
       "A Time Series:\\\\\\begin{enumerate*}\n",
       "\\item 0\n",
       "\\item 0\n",
       "\\item 0\n",
       "\\item 0\n",
       "\\item 0\n",
       "\\item 0\n",
       "\\item 0\n",
       "\\item 0\n",
       "\\item 0\n",
       "\\item 0\n",
       "\\item 0\n",
       "\\item 0\n",
       "\\item 0\n",
       "\\item 0\n",
       "\\item 0\n",
       "\\item 0\n",
       "\\item 0\n",
       "\\item 0\n",
       "\\item 0\n",
       "\\item 0\n",
       "\\item 0\n",
       "\\item 0\n",
       "\\item 0\n",
       "\\item 0\n",
       "\\item 0\n",
       "\\item 0\n",
       "\\item 0\n",
       "\\item 0\n",
       "\\item 0\n",
       "\\item 0\n",
       "\\item 0\n",
       "\\item 0\n",
       "\\end{enumerate*}\n"
      ],
      "text/markdown": [
       "A Time Series:  \n",
       "1. 0\n",
       "2. 0\n",
       "3. 0\n",
       "4. 0\n",
       "5. 0\n",
       "6. 0\n",
       "7. 0\n",
       "8. 0\n",
       "9. 0\n",
       "10. 0\n",
       "11. 0\n",
       "12. 0\n",
       "13. 0\n",
       "14. 0\n",
       "15. 0\n",
       "16. 0\n",
       "17. 0\n",
       "18. 0\n",
       "19. 0\n",
       "20. 0\n",
       "21. 0\n",
       "22. 0\n",
       "23. 0\n",
       "24. 0\n",
       "25. 0\n",
       "26. 0\n",
       "27. 0\n",
       "28. 0\n",
       "29. 0\n",
       "30. 0\n",
       "31. 0\n",
       "32. 0\n",
       "\n",
       "\n"
      ],
      "text/plain": [
       "A Time Series:\n",
       " [1] 0 0 0 0 0 0 0 0 0 0 0 0 0 0 0 0 0 0 0 0 0 0 0 0 0 0 0 0 0 0 0 0"
      ]
     },
     "metadata": {},
     "output_type": "display_data"
    }
   ],
   "source": [
    "fcst$mean"
   ]
  },
  {
   "cell_type": "code",
   "execution_count": 223,
   "metadata": {},
   "outputs": [
    {
     "data": {
      "text/html": [
       "<table>\n",
       "<caption>A data.frame: 6 × 1</caption>\n",
       "<thead>\n",
       "\t<tr><th></th><th scope=col>x</th></tr>\n",
       "\t<tr><th></th><th scope=col>&lt;dbl&gt;</th></tr>\n",
       "</thead>\n",
       "<tbody>\n",
       "\t<tr><th scope=row>1</th><td>0</td></tr>\n",
       "\t<tr><th scope=row>2</th><td>0</td></tr>\n",
       "\t<tr><th scope=row>3</th><td>0</td></tr>\n",
       "\t<tr><th scope=row>4</th><td>0</td></tr>\n",
       "\t<tr><th scope=row>5</th><td>0</td></tr>\n",
       "\t<tr><th scope=row>6</th><td>0</td></tr>\n",
       "</tbody>\n",
       "</table>\n"
      ],
      "text/latex": [
       "A data.frame: 6 × 1\n",
       "\\begin{tabular}{r|l}\n",
       "  & x\\\\\n",
       "  & <dbl>\\\\\n",
       "\\hline\n",
       "\t1 & 0\\\\\n",
       "\t2 & 0\\\\\n",
       "\t3 & 0\\\\\n",
       "\t4 & 0\\\\\n",
       "\t5 & 0\\\\\n",
       "\t6 & 0\\\\\n",
       "\\end{tabular}\n"
      ],
      "text/markdown": [
       "\n",
       "A data.frame: 6 × 1\n",
       "\n",
       "| <!--/--> | x &lt;dbl&gt; |\n",
       "|---|---|\n",
       "| 1 | 0 |\n",
       "| 2 | 0 |\n",
       "| 3 | 0 |\n",
       "| 4 | 0 |\n",
       "| 5 | 0 |\n",
       "| 6 | 0 |\n",
       "\n"
      ],
      "text/plain": [
       "  x\n",
       "1 0\n",
       "2 0\n",
       "3 0\n",
       "4 0\n",
       "5 0\n",
       "6 0"
      ]
     },
     "metadata": {},
     "output_type": "display_data"
    }
   ],
   "source": [
    "head(as.data.frame(fcst$mean)) # преобразуем в таблицу"
   ]
  },
  {
   "cell_type": "code",
   "execution_count": 224,
   "metadata": {},
   "outputs": [],
   "source": [
    "Dates <- NULL # создаю таблицу с датами, прогноз же до 2050\n",
    "Dates <- as.data.frame(Dates)\n",
    "for (i in 1:32){\n",
    "    Dates[i,1] <- paste0(2018+i, '-12-31')\n",
    "}\n",
    "Dates$V1 <- as.Date(Dates$V1)"
   ]
  },
  {
   "cell_type": "code",
   "execution_count": 225,
   "metadata": {},
   "outputs": [],
   "source": [
    "fcst <- cbind(Dates$V1, as.data.frame(fcst$mean)) # Объединяю даты и прогноз в одну таблицу "
   ]
  },
  {
   "cell_type": "code",
   "execution_count": 226,
   "metadata": {},
   "outputs": [],
   "source": [
    "fcst <- to_xts(fcst) # Делаю эту таблицу по формату временным рядом"
   ]
  },
  {
   "cell_type": "code",
   "execution_count": 227,
   "metadata": {},
   "outputs": [],
   "source": [
    "prediction <- rbind(GDP.rtn, fcst) # Объединяю реальные значения и прогноз"
   ]
  },
  {
   "cell_type": "code",
   "execution_count": 228,
   "metadata": {},
   "outputs": [],
   "source": [
    "prediction <- rbind(diff(log(GDP), 1)[2,], prediction) \n",
    "# Теперь от разности разностей логарифмов нужно придти просто к разности логарифом"
   ]
  },
  {
   "cell_type": "code",
   "execution_count": 229,
   "metadata": {},
   "outputs": [],
   "source": [
    "for (i in 2:70) { # Возвращаюсь к разности логарифмов\n",
    "    prediction[i] <-  as.numeric(prediction[i-1]) +  as.numeric(prediction[i])\n",
    "}"
   ]
  },
  {
   "cell_type": "code",
   "execution_count": 230,
   "metadata": {},
   "outputs": [],
   "source": [
    "prediction <- rbind(GDP[1], prediction)\n",
    "# Теперь от разности  логарифмов нужно придти к нормальному виду"
   ]
  },
  {
   "cell_type": "code",
   "execution_count": 231,
   "metadata": {},
   "outputs": [],
   "source": [
    "for (i in 2:71) {\n",
    "    prediction[i] <- exp(prediction[i]) * as.numeric(prediction[i-1])\n",
    "}"
   ]
  },
  {
   "cell_type": "code",
   "execution_count": 232,
   "metadata": {},
   "outputs": [
    {
     "data": {
      "image/png": "[encoded data removed]",
      "text/plain": [
       "plot without title"
      ]
     },
     "metadata": {
      "image/png": {
       "height": 420,
       "width": 420
      },
      "text/plain": {
       "height": 420,
       "width": 420
      }
     },
     "output_type": "display_data"
    },
    {
     "data": {
      "image/png": "[encoded data removed]",
      "text/plain": [
       "plot without title"
      ]
     },
     "metadata": {
      "image/png": {
       "height": 420,
       "width": 420
      },
      "text/plain": {
       "height": 420,
       "width": 420
      }
     },
     "output_type": "display_data"
    }
   ],
   "source": [
    "plot(prediction, main = 'Mezzogiorno GDP', col = 'red', lwd = 4)\n",
    "lines(prediction[1:39], col = 'blue', lwd = 4)\n",
    "# R криво рисует графики временных рядов, поэтому можно их бахнуть в Экселе или где тебе удобнее"
   ]
  },
  {
   "cell_type": "code",
   "execution_count": 242,
   "metadata": {},
   "outputs": [],
   "source": [
    "write.xlsx(prediction, 'for_Polina.xlsx') # В файлике не будет годов, сможешь вручную проставить?"
   ]
  }
 ],
 "metadata": {
  "kernelspec": {
   "display_name": "R",
   "language": "R",
   "name": "ir"
  },
  "language_info": {
   "codemirror_mode": "r",
   "file_extension": ".r",
   "mimetype": "text/x-r-source",
   "name": "R",
   "pygments_lexer": "r",
   "version": "3.6.1"
  }
 },
 "nbformat": 4,
 "nbformat_minor": 4
}
